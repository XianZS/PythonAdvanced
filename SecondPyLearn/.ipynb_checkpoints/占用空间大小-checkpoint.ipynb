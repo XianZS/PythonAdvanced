{
 "cells": [
  {
   "cell_type": "code",
   "execution_count": 2,
   "id": "initial_id",
   "metadata": {
    "jupyter": {
     "is_executing": true
    }
   },
   "outputs": [],
   "source": [
    "import sys"
   ]
  },
  {
   "cell_type": "code",
   "execution_count": 3,
   "id": "f6309666caa8f619",
   "metadata": {},
   "outputs": [
    {
     "data": {
      "text/plain": [
       "80"
      ]
     },
     "execution_count": 3,
     "metadata": {},
     "output_type": "execute_result"
    }
   ],
   "source": [
    "sys.getsizeof([0]*3)"
   ]
  },
  {
   "cell_type": "code",
   "execution_count": 10,
   "id": "e7644b99d9126bde",
   "metadata": {},
   "outputs": [
    {
     "data": {
      "text/plain": [
       "80"
      ]
     },
     "execution_count": 10,
     "metadata": {},
     "output_type": "execute_result"
    }
   ],
   "source": [
    "sys.getsizeof([0, 0, 0])"
   ]
  },
  {
   "cell_type": "code",
   "execution_count": 11,
   "id": "a4e1b55e980f5c6c",
   "metadata": {},
   "outputs": [
    {
     "data": {
      "text/plain": [
       "88"
      ]
     },
     "execution_count": 11,
     "metadata": {},
     "output_type": "execute_result"
    }
   ],
   "source": [
    "sys.getsizeof([0 for _ in range(3)])"
   ]
  },
  {
   "cell_type": "code",
   "execution_count": 13,
   "id": "1e4aa9e6be4339ed",
   "metadata": {},
   "outputs": [],
   "source": [
    "import dis"
   ]
  },
  {
   "cell_type": "code",
   "execution_count": 15,
   "id": "f12734dc56912707",
   "metadata": {
    "scrolled": true
   },
   "outputs": [
    {
     "name": "stdout",
     "output_type": "stream",
     "text": [
      "  1           0 LOAD_CONST               0 (0)\n",
      "              2 BUILD_LIST               1\n",
      "              4 LOAD_CONST               1 (3)\n",
      "              6 BINARY_MULTIPLY\n",
      "              8 RETURN_VALUE\n"
     ]
    }
   ],
   "source": [
    "dis.dis(\"[0]*3\")"
   ]
  },
  {
   "cell_type": "code",
   "execution_count": 16,
   "id": "e5a31e98-90be-448f-b473-ffbc7d37e4ea",
   "metadata": {},
   "outputs": [
    {
     "name": "stdout",
     "output_type": "stream",
     "text": [
      "  1           0 LOAD_CONST               0 (0)\n",
      "              2 LOAD_CONST               0 (0)\n",
      "              4 LOAD_CONST               0 (0)\n",
      "              6 BUILD_LIST               3\n",
      "              8 RETURN_VALUE\n"
     ]
    }
   ],
   "source": [
    "dis.dis(\"[0,0,0]\")"
   ]
  },
  {
   "cell_type": "code",
   "execution_count": 17,
   "id": "839884fd-d1d6-4478-baf1-b8536bfb626a",
   "metadata": {},
   "outputs": [
    {
     "name": "stdout",
     "output_type": "stream",
     "text": [
      "  1           0 LOAD_CONST               0 (<code object <listcomp> at 0x00000274F0172500, file \"<dis>\", line 1>)\n",
      "              2 LOAD_CONST               1 ('<listcomp>')\n",
      "              4 MAKE_FUNCTION            0\n",
      "              6 LOAD_NAME                0 (range)\n",
      "              8 LOAD_CONST               2 (3)\n",
      "             10 CALL_FUNCTION            1\n",
      "             12 GET_ITER\n",
      "             14 CALL_FUNCTION            1\n",
      "             16 RETURN_VALUE\n",
      "\n",
      "Disassembly of <code object <listcomp> at 0x00000274F0172500, file \"<dis>\", line 1>:\n",
      "  1           0 BUILD_LIST               0\n",
      "              2 LOAD_FAST                0 (.0)\n",
      "        >>    4 FOR_ITER                 8 (to 14)\n",
      "              6 STORE_FAST               1 (_)\n",
      "              8 LOAD_CONST               0 (0)\n",
      "             10 LIST_APPEND              2\n",
      "             12 JUMP_ABSOLUTE            4\n",
      "        >>   14 RETURN_VALUE\n"
     ]
    }
   ],
   "source": [
    "dis.dis(\"[0 for _ in range(3)]\")"
   ]
  },
  {
   "cell_type": "code",
   "execution_count": null,
   "id": "2986bbb9-913e-4922-b097-1a0537502443",
   "metadata": {},
   "outputs": [],
   "source": []
  },
  {
   "cell_type": "code",
   "execution_count": null,
   "id": "d721e87e-02e0-4d7b-8bf2-7ff871f82b15",
   "metadata": {},
   "outputs": [],
   "source": []
  },
  {
   "cell_type": "code",
   "execution_count": null,
   "id": "522a63d0-7c5e-4767-b5b2-6e953ede75c8",
   "metadata": {},
   "outputs": [],
   "source": []
  }
 ],
 "metadata": {
  "kernelspec": {
   "display_name": "Python 3 (ipykernel)",
   "language": "python",
   "name": "python3"
  },
  "language_info": {
   "codemirror_mode": {
    "name": "ipython",
    "version": 3
   },
   "file_extension": ".py",
   "mimetype": "text/x-python",
   "name": "python",
   "nbconvert_exporter": "python",
   "pygments_lexer": "ipython3",
   "version": "3.8.6"
  }
 },
 "nbformat": 4,
 "nbformat_minor": 5
}
